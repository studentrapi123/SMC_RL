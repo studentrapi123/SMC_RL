{
 "cells": [
  {
   "cell_type": "code",
   "execution_count": null,
   "id": "initial_id",
   "metadata": {
    "collapsed": true
   },
   "outputs": [],
   "source": "import numpy as np"
  },
  {
   "metadata": {},
   "cell_type": "code",
   "outputs": [],
   "execution_count": null,
   "source": [
    "def find_order_block_for_bullish_bos(df, swing_high_index, break_index):\n",
    "    \"\"\"\n",
    "    Find the order block for a bullish BOS (the last bearish candle in the range)\n",
    "    \"\"\"\n",
    "    # Loop backward from the break index to the swing high index\n",
    "    for i in range(break_index - 1, swing_high_index, -1):\n",
    "        # Check if it's a bearish candle (close < open)\n",
    "        if df['close'].iloc[i] < df['open'].iloc[i]:\n",
    "            return i\n",
    "\n",
    "    return -1  # No suitable candle found"
   ],
   "id": "ee46a58595d092ca"
  },
  {
   "metadata": {},
   "cell_type": "code",
   "outputs": [],
   "execution_count": null,
   "source": [
    "def find_order_block_for_bearish_bos(df, swing_low_index, break_index):\n",
    "    \"\"\"\n",
    "    Find the order block for a bearish BOS (the last bullish candle in the range)\n",
    "    \"\"\"\n",
    "    # Loop backward from the break index to the swing low index\n",
    "    for i in range(break_index - 1, swing_low_index, -1):\n",
    "        # Check if it's a bullish candle (close > open)\n",
    "        if df['close'].iloc[i] > df['open'].iloc[i]:\n",
    "            return i\n",
    "\n",
    "    return -1  # No suitable candle found"
   ],
   "id": "51c91424bd3e6542"
  },
  {
   "metadata": {},
   "cell_type": "code",
   "outputs": [],
   "execution_count": null,
   "source": [
    "def find_mitigation_point(df, ob_index, start_idx, end_idx, is_bullish=True):\n",
    "    \"\"\"\n",
    "    Find the point where an order block gets mitigated (price CLOSES inside or beyond the zone)\n",
    "    \"\"\"\n",
    "    ob_high = df['high'].iloc[ob_index]\n",
    "    ob_low = df['low'].iloc[ob_index]\n",
    "\n",
    "    for i in range(start_idx, end_idx):\n",
    "        if is_bullish:\n",
    "            # For bullish order blocks, mitigation happens when a candle closes below/inside the zone\n",
    "            if df['close'].iloc[i] <= ob_high:\n",
    "                return i\n",
    "        else:\n",
    "            # For bearish order blocks, mitigation happens when a candle closes above/inside the zone\n",
    "            if df['close'].iloc[i] >= ob_low:\n",
    "                return i\n",
    "\n",
    "    return end_idx  # No mitigation found"
   ],
   "id": "de2f705d09413dc"
  },
  {
   "metadata": {},
   "cell_type": "code",
   "outputs": [],
   "execution_count": null,
   "source": "",
   "id": "56a3dfa3a6d079be"
  }
 ],
 "metadata": {
  "kernelspec": {
   "display_name": "Python 3",
   "language": "python",
   "name": "python3"
  },
  "language_info": {
   "codemirror_mode": {
    "name": "ipython",
    "version": 2
   },
   "file_extension": ".py",
   "mimetype": "text/x-python",
   "name": "python",
   "nbconvert_exporter": "python",
   "pygments_lexer": "ipython2",
   "version": "2.7.6"
  }
 },
 "nbformat": 4,
 "nbformat_minor": 5
}
